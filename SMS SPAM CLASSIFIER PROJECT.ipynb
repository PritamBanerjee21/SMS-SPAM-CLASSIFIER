{
 "cells": [
  {
   "cell_type": "markdown",
   "id": "66f928e2-83fa-4e80-97c9-d8345475fa49",
   "metadata": {},
   "source": [
    "# 1. Importing Libraries"
   ]
  },
  {
   "cell_type": "code",
   "execution_count": 1,
   "id": "6b192d44-3ec1-463e-a25b-cdb7237e3330",
   "metadata": {},
   "outputs": [],
   "source": [
    "import pandas as pd\n",
    "import numpy as np\n",
    "import matplotlib.pyplot as plt\n",
    "import seaborn as sns\n",
    "import os\n",
    "from sklearn.preprocessing import LabelEncoder,MinMaxScaler\n",
    "from sklearn.model_selection import train_test_split\n",
    "from sklearn.feature_extraction.text import TfidfVectorizer\n",
    "import string\n",
    "import nltk\n",
    "from nltk.tokenize import word_tokenize,sent_tokenize\n",
    "from nltk.corpus import stopwords\n",
    "from nltk.stem import WordNetLemmatizer\n",
    "import warnings\n",
    "from collections import Counter\n",
    "from sklearn.naive_bayes import GaussianNB,MultinomialNB,BernoulliNB\n",
    "from sklearn.linear_model import LogisticRegression\n",
    "from sklearn.ensemble import RandomForestClassifier\n",
    "from xgboost import XGBClassifier\n",
    "from sklearn.metrics import accuracy_score,precision_score,f1_score\n",
    "import joblib"
   ]
  },
  {
   "cell_type": "markdown",
   "id": "861480dc-0275-4b83-b5c4-715d68168216",
   "metadata": {},
   "source": [
    "# 2. Setting "
   ]
  },
  {
   "cell_type": "code",
   "execution_count": 2,
   "id": "d0734a26-8f95-45f1-87b9-05022106c339",
   "metadata": {},
   "outputs": [],
   "source": [
    "warnings.filterwarnings('ignore')"
   ]
  },
  {
   "cell_type": "code",
   "execution_count": 3,
   "id": "bb76c34b-12d2-4c14-8d8e-bd61bc4380ea",
   "metadata": {},
   "outputs": [
    {
     "name": "stderr",
     "output_type": "stream",
     "text": [
      "[nltk_data] Downloading package punkt to\n",
      "[nltk_data]     C:\\Users\\PRITAM\\AppData\\Roaming\\nltk_data...\n",
      "[nltk_data]   Package punkt is already up-to-date!\n"
     ]
    },
    {
     "data": {
      "text/plain": [
       "True"
      ]
     },
     "execution_count": 3,
     "metadata": {},
     "output_type": "execute_result"
    }
   ],
   "source": [
    "nltk.download('punkt')"
   ]
  },
  {
   "cell_type": "code",
   "execution_count": 4,
   "id": "0bcf0e02-1f1c-46c7-babf-2e26fcb55510",
   "metadata": {},
   "outputs": [
    {
     "name": "stderr",
     "output_type": "stream",
     "text": [
      "[nltk_data] Downloading package stopwords to\n",
      "[nltk_data]     C:\\Users\\PRITAM\\AppData\\Roaming\\nltk_data...\n",
      "[nltk_data]   Package stopwords is already up-to-date!\n"
     ]
    },
    {
     "data": {
      "text/plain": [
       "True"
      ]
     },
     "execution_count": 4,
     "metadata": {},
     "output_type": "execute_result"
    }
   ],
   "source": [
    "nltk.download('stopwords')"
   ]
  },
  {
   "cell_type": "code",
   "execution_count": 5,
   "id": "d6475f4b-1e5a-4966-ac1d-d45a84d86db1",
   "metadata": {},
   "outputs": [
    {
     "name": "stderr",
     "output_type": "stream",
     "text": [
      "[nltk_data] Downloading package punkt_tab to\n",
      "[nltk_data]     C:\\Users\\PRITAM\\AppData\\Roaming\\nltk_data...\n",
      "[nltk_data]   Package punkt_tab is already up-to-date!\n"
     ]
    },
    {
     "data": {
      "text/plain": [
       "True"
      ]
     },
     "execution_count": 5,
     "metadata": {},
     "output_type": "execute_result"
    }
   ],
   "source": [
    "nltk.download('punkt_tab')"
   ]
  },
  {
   "cell_type": "code",
   "execution_count": 6,
   "id": "52447f76-7557-46fa-831c-48c91af64c73",
   "metadata": {},
   "outputs": [
    {
     "name": "stderr",
     "output_type": "stream",
     "text": [
      "[nltk_data] Downloading package wordnet to\n",
      "[nltk_data]     C:\\Users\\PRITAM\\AppData\\Roaming\\nltk_data...\n",
      "[nltk_data]   Package wordnet is already up-to-date!\n"
     ]
    },
    {
     "data": {
      "text/plain": [
       "True"
      ]
     },
     "execution_count": 6,
     "metadata": {},
     "output_type": "execute_result"
    }
   ],
   "source": [
    "nltk.download('wordnet')"
   ]
  },
  {
   "cell_type": "markdown",
   "id": "58feb5f1-469e-44f0-953b-b1af85e1c83b",
   "metadata": {},
   "source": [
    "# 3. Reading Data"
   ]
  },
  {
   "cell_type": "code",
   "execution_count": 7,
   "id": "1fdf06e4-0df7-4c7e-bb72-9bed53a28fb3",
   "metadata": {},
   "outputs": [],
   "source": [
    "# Function to get the data\n",
    "Path = r\"D:\\SMS_SPAM_CLASSIFIER\"\n",
    "def get_data(file):\n",
    "    filename = f\"{file}.csv\"\n",
    "    filepath = os.path.join(Path,filename)\n",
    "    return pd.read_csv(filepath,encoding='latin-1')"
   ]
  },
  {
   "cell_type": "code",
   "execution_count": 8,
   "id": "1dfd889c-04ce-4c2d-9603-495bb4396e74",
   "metadata": {},
   "outputs": [
    {
     "data": {
      "text/html": [
       "<div>\n",
       "<style scoped>\n",
       "    .dataframe tbody tr th:only-of-type {\n",
       "        vertical-align: middle;\n",
       "    }\n",
       "\n",
       "    .dataframe tbody tr th {\n",
       "        vertical-align: top;\n",
       "    }\n",
       "\n",
       "    .dataframe thead th {\n",
       "        text-align: right;\n",
       "    }\n",
       "</style>\n",
       "<table border=\"1\" class=\"dataframe\">\n",
       "  <thead>\n",
       "    <tr style=\"text-align: right;\">\n",
       "      <th></th>\n",
       "      <th>v1</th>\n",
       "      <th>v2</th>\n",
       "      <th>Unnamed: 2</th>\n",
       "      <th>Unnamed: 3</th>\n",
       "      <th>Unnamed: 4</th>\n",
       "    </tr>\n",
       "  </thead>\n",
       "  <tbody>\n",
       "    <tr>\n",
       "      <th>0</th>\n",
       "      <td>ham</td>\n",
       "      <td>Go until jurong point, crazy.. Available only ...</td>\n",
       "      <td>NaN</td>\n",
       "      <td>NaN</td>\n",
       "      <td>NaN</td>\n",
       "    </tr>\n",
       "    <tr>\n",
       "      <th>1</th>\n",
       "      <td>ham</td>\n",
       "      <td>Ok lar... Joking wif u oni...</td>\n",
       "      <td>NaN</td>\n",
       "      <td>NaN</td>\n",
       "      <td>NaN</td>\n",
       "    </tr>\n",
       "    <tr>\n",
       "      <th>2</th>\n",
       "      <td>spam</td>\n",
       "      <td>Free entry in 2 a wkly comp to win FA Cup fina...</td>\n",
       "      <td>NaN</td>\n",
       "      <td>NaN</td>\n",
       "      <td>NaN</td>\n",
       "    </tr>\n",
       "    <tr>\n",
       "      <th>3</th>\n",
       "      <td>ham</td>\n",
       "      <td>U dun say so early hor... U c already then say...</td>\n",
       "      <td>NaN</td>\n",
       "      <td>NaN</td>\n",
       "      <td>NaN</td>\n",
       "    </tr>\n",
       "    <tr>\n",
       "      <th>4</th>\n",
       "      <td>ham</td>\n",
       "      <td>Nah I don't think he goes to usf, he lives aro...</td>\n",
       "      <td>NaN</td>\n",
       "      <td>NaN</td>\n",
       "      <td>NaN</td>\n",
       "    </tr>\n",
       "  </tbody>\n",
       "</table>\n",
       "</div>"
      ],
      "text/plain": [
       "     v1                                                 v2 Unnamed: 2  \\\n",
       "0   ham  Go until jurong point, crazy.. Available only ...        NaN   \n",
       "1   ham                      Ok lar... Joking wif u oni...        NaN   \n",
       "2  spam  Free entry in 2 a wkly comp to win FA Cup fina...        NaN   \n",
       "3   ham  U dun say so early hor... U c already then say...        NaN   \n",
       "4   ham  Nah I don't think he goes to usf, he lives aro...        NaN   \n",
       "\n",
       "  Unnamed: 3 Unnamed: 4  \n",
       "0        NaN        NaN  \n",
       "1        NaN        NaN  \n",
       "2        NaN        NaN  \n",
       "3        NaN        NaN  \n",
       "4        NaN        NaN  "
      ]
     },
     "execution_count": 8,
     "metadata": {},
     "output_type": "execute_result"
    }
   ],
   "source": [
    "# Reading the dataset\n",
    "data = get_data('spam')\n",
    "data.head()"
   ]
  },
  {
   "cell_type": "code",
   "execution_count": 9,
   "id": "696f7caf-d7fe-4cb1-b8a1-20d871382c00",
   "metadata": {},
   "outputs": [
    {
     "data": {
      "text/plain": [
       "(5572, 5)"
      ]
     },
     "execution_count": 9,
     "metadata": {},
     "output_type": "execute_result"
    }
   ],
   "source": [
    "# Checking the shape\n",
    "data.shape"
   ]
  },
  {
   "cell_type": "code",
   "execution_count": 10,
   "id": "7a89ca20-de16-4125-b64e-6f76adb4d54b",
   "metadata": {},
   "outputs": [
    {
     "name": "stdout",
     "output_type": "stream",
     "text": [
      "<class 'pandas.core.frame.DataFrame'>\n",
      "RangeIndex: 5572 entries, 0 to 5571\n",
      "Data columns (total 5 columns):\n",
      " #   Column      Non-Null Count  Dtype \n",
      "---  ------      --------------  ----- \n",
      " 0   v1          5572 non-null   object\n",
      " 1   v2          5572 non-null   object\n",
      " 2   Unnamed: 2  50 non-null     object\n",
      " 3   Unnamed: 3  12 non-null     object\n",
      " 4   Unnamed: 4  6 non-null      object\n",
      "dtypes: object(5)\n",
      "memory usage: 217.8+ KB\n"
     ]
    }
   ],
   "source": [
    "# Checking the information about the data\n",
    "data.info()"
   ]
  },
  {
   "cell_type": "markdown",
   "id": "aa4c7d09-7096-439c-93ff-7463cc33df54",
   "metadata": {},
   "source": [
    "- We don't need the last three columns as most of the values are null\n",
    "- We will also rename the first two columns as 'target' and 'text'"
   ]
  },
  {
   "cell_type": "code",
   "execution_count": 11,
   "id": "43543f34-7383-4d7e-a09b-b588549d7046",
   "metadata": {},
   "outputs": [
    {
     "data": {
      "text/plain": [
       "v1\n",
       "ham     0.865937\n",
       "spam    0.134063\n",
       "Name: proportion, dtype: float64"
      ]
     },
     "execution_count": 11,
     "metadata": {},
     "output_type": "execute_result"
    }
   ],
   "source": [
    "# Checking if the dataset is balanced or not\n",
    "data.v1.value_counts(normalize=True)"
   ]
  },
  {
   "cell_type": "markdown",
   "id": "ee8d0432-aaf3-4c37-b7e7-5315712219f6",
   "metadata": {},
   "source": [
    "- The dataset is imbalanced. The model should be with high Precision score"
   ]
  },
  {
   "cell_type": "code",
   "execution_count": 12,
   "id": "b89579a3-e54e-4144-8459-49beb563edda",
   "metadata": {},
   "outputs": [
    {
     "data": {
      "text/plain": [
       "np.int64(403)"
      ]
     },
     "execution_count": 12,
     "metadata": {},
     "output_type": "execute_result"
    }
   ],
   "source": [
    "# Checking for duplicates\n",
    "data.duplicated().sum()"
   ]
  },
  {
   "cell_type": "markdown",
   "id": "1eaef633-6f41-4c74-8246-3b96332d9f27",
   "metadata": {},
   "source": [
    "- There are 403 duplicate values which should be dropped"
   ]
  },
  {
   "cell_type": "markdown",
   "id": "4d91f07d-ec49-4c2c-a496-f0c58e334ef9",
   "metadata": {},
   "source": [
    "# 4. Data Cleaning"
   ]
  },
  {
   "cell_type": "code",
   "execution_count": 13,
   "id": "2eb689ca-c66f-4de0-9f35-688105bc28fb",
   "metadata": {},
   "outputs": [],
   "source": [
    "# Function to clean data\n",
    "def clean(dataset):\n",
    "    return(\n",
    "        data\n",
    "        .drop_duplicates()\n",
    "        .rename(columns={'v1':'target','v2':'text'})\n",
    "        .assign(target = lambda df : LabelEncoder().fit_transform(df.target))\n",
    "        .drop(columns=['Unnamed: 2','Unnamed: 3','Unnamed: 4'])\n",
    "        )"
   ]
  },
  {
   "cell_type": "code",
   "execution_count": 14,
   "id": "14eef662-0852-47f6-8b30-f63ec99607f2",
   "metadata": {},
   "outputs": [
    {
     "data": {
      "text/html": [
       "<div>\n",
       "<style scoped>\n",
       "    .dataframe tbody tr th:only-of-type {\n",
       "        vertical-align: middle;\n",
       "    }\n",
       "\n",
       "    .dataframe tbody tr th {\n",
       "        vertical-align: top;\n",
       "    }\n",
       "\n",
       "    .dataframe thead th {\n",
       "        text-align: right;\n",
       "    }\n",
       "</style>\n",
       "<table border=\"1\" class=\"dataframe\">\n",
       "  <thead>\n",
       "    <tr style=\"text-align: right;\">\n",
       "      <th></th>\n",
       "      <th>target</th>\n",
       "      <th>text</th>\n",
       "    </tr>\n",
       "  </thead>\n",
       "  <tbody>\n",
       "    <tr>\n",
       "      <th>0</th>\n",
       "      <td>0</td>\n",
       "      <td>Go until jurong point, crazy.. Available only ...</td>\n",
       "    </tr>\n",
       "    <tr>\n",
       "      <th>1</th>\n",
       "      <td>0</td>\n",
       "      <td>Ok lar... Joking wif u oni...</td>\n",
       "    </tr>\n",
       "    <tr>\n",
       "      <th>2</th>\n",
       "      <td>1</td>\n",
       "      <td>Free entry in 2 a wkly comp to win FA Cup fina...</td>\n",
       "    </tr>\n",
       "    <tr>\n",
       "      <th>3</th>\n",
       "      <td>0</td>\n",
       "      <td>U dun say so early hor... U c already then say...</td>\n",
       "    </tr>\n",
       "    <tr>\n",
       "      <th>4</th>\n",
       "      <td>0</td>\n",
       "      <td>Nah I don't think he goes to usf, he lives aro...</td>\n",
       "    </tr>\n",
       "  </tbody>\n",
       "</table>\n",
       "</div>"
      ],
      "text/plain": [
       "   target                                               text\n",
       "0       0  Go until jurong point, crazy.. Available only ...\n",
       "1       0                      Ok lar... Joking wif u oni...\n",
       "2       1  Free entry in 2 a wkly comp to win FA Cup fina...\n",
       "3       0  U dun say so early hor... U c already then say...\n",
       "4       0  Nah I don't think he goes to usf, he lives aro..."
      ]
     },
     "execution_count": 14,
     "metadata": {},
     "output_type": "execute_result"
    }
   ],
   "source": [
    "# Getting the cleaned data\n",
    "clean_df = clean(data)\n",
    "clean_df.head()"
   ]
  },
  {
   "cell_type": "markdown",
   "id": "8cc2a084-8f10-4d9c-8a8d-ad571ff27be7",
   "metadata": {},
   "source": [
    "# 5. Data Preprocessing"
   ]
  },
  {
   "cell_type": "code",
   "execution_count": 15,
   "id": "5dc4508c-59de-4dce-89cc-e738cc1bbc7e",
   "metadata": {},
   "outputs": [],
   "source": [
    "# Function for transformation\n",
    "def transformation(col):\n",
    "    new_text = []\n",
    "    text = col.lower()\n",
    "    text = word_tokenize(text)\n",
    "    for i in text:\n",
    "        if i.isalnum() and i not in stopwords.words('english') and i not in string.punctuation:\n",
    "            new_text.append(i)\n",
    "    text = new_text[:]\n",
    "    new_text.clear()\n",
    "    for i in text:\n",
    "        new_text.append(WordNetLemmatizer().lemmatize(i))\n",
    "    return \" \".join(new_text)"
   ]
  },
  {
   "cell_type": "code",
   "execution_count": 16,
   "id": "75bfb30a-75ae-4a2e-8fa8-f7a9d3059913",
   "metadata": {},
   "outputs": [],
   "source": [
    "# Function to update the column with preprocessing\n",
    "def preprocessed(dataset):\n",
    "    return(\n",
    "        clean_df\n",
    "        .assign(\n",
    "            text = lambda df : df.text.apply(transformation)\n",
    "        )\n",
    "    )"
   ]
  },
  {
   "cell_type": "code",
   "execution_count": 17,
   "id": "be2d8cbf-d2ef-48a5-b4dc-3780409527b2",
   "metadata": {},
   "outputs": [
    {
     "data": {
      "text/html": [
       "<div>\n",
       "<style scoped>\n",
       "    .dataframe tbody tr th:only-of-type {\n",
       "        vertical-align: middle;\n",
       "    }\n",
       "\n",
       "    .dataframe tbody tr th {\n",
       "        vertical-align: top;\n",
       "    }\n",
       "\n",
       "    .dataframe thead th {\n",
       "        text-align: right;\n",
       "    }\n",
       "</style>\n",
       "<table border=\"1\" class=\"dataframe\">\n",
       "  <thead>\n",
       "    <tr style=\"text-align: right;\">\n",
       "      <th></th>\n",
       "      <th>target</th>\n",
       "      <th>text</th>\n",
       "    </tr>\n",
       "  </thead>\n",
       "  <tbody>\n",
       "    <tr>\n",
       "      <th>0</th>\n",
       "      <td>0</td>\n",
       "      <td>go jurong point crazy available bugis n great ...</td>\n",
       "    </tr>\n",
       "    <tr>\n",
       "      <th>1</th>\n",
       "      <td>0</td>\n",
       "      <td>ok lar joking wif u oni</td>\n",
       "    </tr>\n",
       "    <tr>\n",
       "      <th>2</th>\n",
       "      <td>1</td>\n",
       "      <td>free entry 2 wkly comp win fa cup final tkts 2...</td>\n",
       "    </tr>\n",
       "    <tr>\n",
       "      <th>3</th>\n",
       "      <td>0</td>\n",
       "      <td>u dun say early hor u c already say</td>\n",
       "    </tr>\n",
       "    <tr>\n",
       "      <th>4</th>\n",
       "      <td>0</td>\n",
       "      <td>nah think go usf life around though</td>\n",
       "    </tr>\n",
       "  </tbody>\n",
       "</table>\n",
       "</div>"
      ],
      "text/plain": [
       "   target                                               text\n",
       "0       0  go jurong point crazy available bugis n great ...\n",
       "1       0                            ok lar joking wif u oni\n",
       "2       1  free entry 2 wkly comp win fa cup final tkts 2...\n",
       "3       0                u dun say early hor u c already say\n",
       "4       0                nah think go usf life around though"
      ]
     },
     "execution_count": 17,
     "metadata": {},
     "output_type": "execute_result"
    }
   ],
   "source": [
    "# Getting the new data with preprocessed column\n",
    "prep_df = preprocessed(clean_df)\n",
    "prep_df.head()"
   ]
  },
  {
   "cell_type": "markdown",
   "id": "5592e1df-69e7-49f7-8662-8d1f62c81cc6",
   "metadata": {},
   "source": [
    "# 6. Feature Extraction"
   ]
  },
  {
   "cell_type": "code",
   "execution_count": 18,
   "id": "9b93c94c-4e8b-48f1-b97f-faca7f9462ba",
   "metadata": {},
   "outputs": [],
   "source": [
    "# fucntion to extract new features\n",
    "def feature_extractor(data):\n",
    "    return(\n",
    "        clean_df\n",
    "        .assign(\n",
    "            num_char = clean_df.text.apply(len)\n",
    "        )\n",
    "        .assign(\n",
    "            num_words = clean_df.text.apply(lambda x:len(word_tokenize(x)))\n",
    "        )\n",
    "        .assign(\n",
    "            num_sent = clean_df.text.apply(lambda x:len(sent_tokenize(x)))\n",
    "        )\n",
    "        .assign(\n",
    "            text = clean_df.text.apply(transformation)\n",
    "        )\n",
    "    )"
   ]
  },
  {
   "cell_type": "code",
   "execution_count": 19,
   "id": "ca5215ce-4ad0-4b7b-9adb-2019f109a10c",
   "metadata": {},
   "outputs": [
    {
     "data": {
      "text/html": [
       "<div>\n",
       "<style scoped>\n",
       "    .dataframe tbody tr th:only-of-type {\n",
       "        vertical-align: middle;\n",
       "    }\n",
       "\n",
       "    .dataframe tbody tr th {\n",
       "        vertical-align: top;\n",
       "    }\n",
       "\n",
       "    .dataframe thead th {\n",
       "        text-align: right;\n",
       "    }\n",
       "</style>\n",
       "<table border=\"1\" class=\"dataframe\">\n",
       "  <thead>\n",
       "    <tr style=\"text-align: right;\">\n",
       "      <th></th>\n",
       "      <th>target</th>\n",
       "      <th>text</th>\n",
       "      <th>num_char</th>\n",
       "      <th>num_words</th>\n",
       "      <th>num_sent</th>\n",
       "    </tr>\n",
       "  </thead>\n",
       "  <tbody>\n",
       "    <tr>\n",
       "      <th>0</th>\n",
       "      <td>0</td>\n",
       "      <td>go jurong point crazy available bugis n great ...</td>\n",
       "      <td>111</td>\n",
       "      <td>24</td>\n",
       "      <td>2</td>\n",
       "    </tr>\n",
       "    <tr>\n",
       "      <th>1</th>\n",
       "      <td>0</td>\n",
       "      <td>ok lar joking wif u oni</td>\n",
       "      <td>29</td>\n",
       "      <td>8</td>\n",
       "      <td>2</td>\n",
       "    </tr>\n",
       "    <tr>\n",
       "      <th>2</th>\n",
       "      <td>1</td>\n",
       "      <td>free entry 2 wkly comp win fa cup final tkts 2...</td>\n",
       "      <td>155</td>\n",
       "      <td>37</td>\n",
       "      <td>2</td>\n",
       "    </tr>\n",
       "    <tr>\n",
       "      <th>3</th>\n",
       "      <td>0</td>\n",
       "      <td>u dun say early hor u c already say</td>\n",
       "      <td>49</td>\n",
       "      <td>13</td>\n",
       "      <td>1</td>\n",
       "    </tr>\n",
       "    <tr>\n",
       "      <th>4</th>\n",
       "      <td>0</td>\n",
       "      <td>nah think go usf life around though</td>\n",
       "      <td>61</td>\n",
       "      <td>15</td>\n",
       "      <td>1</td>\n",
       "    </tr>\n",
       "  </tbody>\n",
       "</table>\n",
       "</div>"
      ],
      "text/plain": [
       "   target                                               text  num_char  \\\n",
       "0       0  go jurong point crazy available bugis n great ...       111   \n",
       "1       0                            ok lar joking wif u oni        29   \n",
       "2       1  free entry 2 wkly comp win fa cup final tkts 2...       155   \n",
       "3       0                u dun say early hor u c already say        49   \n",
       "4       0                nah think go usf life around though        61   \n",
       "\n",
       "   num_words  num_sent  \n",
       "0         24         2  \n",
       "1          8         2  \n",
       "2         37         2  \n",
       "3         13         1  \n",
       "4         15         1  "
      ]
     },
     "execution_count": 19,
     "metadata": {},
     "output_type": "execute_result"
    }
   ],
   "source": [
    "# Making new dataframe with new features\n",
    "new_df = feature_extractor(clean_df)\n",
    "new_df.head()"
   ]
  },
  {
   "cell_type": "markdown",
   "id": "33be4f69-26f8-4510-a55d-4d0d30ceadeb",
   "metadata": {},
   "source": [
    "- We have made two different datasets to feed our model and notice which one is giving best result : without new features or with new features"
   ]
  },
  {
   "cell_type": "markdown",
   "id": "ff5fabf3-32aa-4ddf-9212-8485ffb553c5",
   "metadata": {},
   "source": [
    "# 7. EDA"
   ]
  },
  {
   "cell_type": "markdown",
   "id": "79da7b03-8293-4667-bf38-7a02309f07f6",
   "metadata": {},
   "source": [
    "- We will perform EDA on the new_df as it is the superset of prep_df"
   ]
  },
  {
   "cell_type": "code",
   "execution_count": 20,
   "id": "eb3bd318-90c8-4599-9a99-e58db4c60acc",
   "metadata": {},
   "outputs": [
    {
     "data": {
      "image/png": "[encoded data removed]",
      "text/plain": [
       "<Figure size 1000x600 with 1 Axes>"
      ]
     },
     "metadata": {},
     "output_type": "display_data"
    },
    {
     "data": {
      "image/png": "[encoded data removed]",
      "text/plain": [
       "<Figure size 1000x600 with 1 Axes>"
      ]
     },
     "metadata": {},
     "output_type": "display_data"
    },
    {
     "data": {
      "image/png": "[encoded data removed]",
      "text/plain": [
       "<Figure size 1000x600 with 1 Axes>"
      ]
     },
     "metadata": {},
     "output_type": "display_data"
    }
   ],
   "source": [
    "# Function to plot new features with respect to the target column\n",
    "def plot(dataset):\n",
    "    for i in dataset.columns.to_list():\n",
    "        if i in ['num_char','num_words','num_sent']:\n",
    "            plt.figure(figsize=(10,6))\n",
    "            sns.histplot(dataset[dataset['target'] == 0][i])\n",
    "            sns.histplot(dataset[dataset['target'] == 1][i],color='red')\n",
    "            plt.legend(['ham','spam'])\n",
    "            plt.title(i)\n",
    "plot(new_df)"
   ]
  },
  {
   "cell_type": "markdown",
   "id": "845cf6b2-8d7c-415f-8493-6d0be7609c9a",
   "metadata": {},
   "source": [
    "- As we can see maximum \"SPAM\" sms have more number of characters and words than \"HAM\" sms"
   ]
  },
  {
   "cell_type": "code",
   "execution_count": 21,
   "id": "f125af97-00d1-46ce-b2a9-88472eb0f94e",
   "metadata": {},
   "outputs": [
    {
     "data": {
      "text/plain": [
       "<Axes: >"
      ]
     },
     "execution_count": 21,
     "metadata": {},
     "output_type": "execute_result"
    },
    {
     "data": {
      "image/png": "[encoded data removed]",
      "text/plain": [
       "<Figure size 640x480 with 2 Axes>"
      ]
     },
     "metadata": {},
     "output_type": "display_data"
    }
   ],
   "source": [
    "# Viewing correlations between the features\n",
    "sns.heatmap(new_df.corr(numeric_only=True),annot=True)"
   ]
  },
  {
   "cell_type": "markdown",
   "id": "fbb15dd6-5018-46fd-bf39-6e177e51a101",
   "metadata": {},
   "source": [
    "- As we can see num_char, num_sent and num_words are highly correlated."
   ]
  },
  {
   "cell_type": "code",
   "execution_count": 22,
   "id": "e53b9049-384b-4c0c-8ef3-60b66b812c9c",
   "metadata": {},
   "outputs": [
    {
     "data": {
      "image/png": "[encoded data removed]",
      "text/plain": [
       "<Figure size 2000x500 with 1 Axes>"
      ]
     },
     "metadata": {},
     "output_type": "display_data"
    }
   ],
   "source": [
    "# Viewing top 30 words in SPAM sms\n",
    "def top_30_spam_words(dataset):\n",
    "    spam = []\n",
    "    for text in dataset[dataset['target']==1]['text'].to_list():\n",
    "        for word in text.split():\n",
    "            spam.append(word)\n",
    "    plt.figure(figsize=(20,5))\n",
    "    sns.barplot(x=pd.DataFrame(Counter(spam).most_common(30))[0],y=pd.DataFrame(Counter(spam).most_common(30))[1])\n",
    "    plt.xticks(rotation=30)\n",
    "    plt.title('Top 30 Spam Words')\n",
    "    plt.show()\n",
    "\n",
    "top_30_spam_words(new_df)"
   ]
  },
  {
   "cell_type": "code",
   "execution_count": 23,
   "id": "a4e7aa2d-e50d-45e1-9bdc-e37d7635ad89",
   "metadata": {},
   "outputs": [
    {
     "data": {
      "image/png": "[encoded data removed]",
      "text/plain": [
       "<Figure size 2000x500 with 1 Axes>"
      ]
     },
     "metadata": {},
     "output_type": "display_data"
    }
   ],
   "source": [
    "# Viewing top 30 words in HAM sms\n",
    "def top_30_ham_words(dataset):\n",
    "    ham = []\n",
    "    for text in dataset[dataset['target']==0]['text'].to_list():\n",
    "        for word in text.split():\n",
    "            ham.append(word)\n",
    "    plt.figure(figsize=(20,5))\n",
    "    sns.barplot(x=pd.DataFrame(Counter(ham).most_common(30))[0],y=pd.DataFrame(Counter(ham).most_common(30))[1])\n",
    "    plt.xticks(rotation=30)\n",
    "    plt.title('Top 30 Ham Words')\n",
    "    plt.show()\n",
    "\n",
    "top_30_ham_words(new_df)"
   ]
  },
  {
   "cell_type": "markdown",
   "id": "56fa6463-9d94-4d7d-ba68-ad8563ba906c",
   "metadata": {},
   "source": [
    "# 8. Vectorization & Data Splitting"
   ]
  },
  {
   "cell_type": "code",
   "execution_count": 24,
   "id": "98f190d9-1c30-49ed-86c3-a4e69b199852",
   "metadata": {},
   "outputs": [],
   "source": [
    "# Making object of TfidfVectorizer and MinMaxScalar\n",
    "tfidf = TfidfVectorizer(max_features=3000)\n",
    "scaler = MinMaxScaler()"
   ]
  },
  {
   "cell_type": "code",
   "execution_count": 25,
   "id": "ab90ee1d-ca52-4cb6-8ff7-cd85ec3f7fc3",
   "metadata": {},
   "outputs": [],
   "source": [
    "# Vectorizing and splitting prep_df\n",
    "X_prep = tfidf.fit_transform(prep_df['text']).toarray()\n",
    "y_prep = prep_df.target\n",
    "\n",
    "X_prep_train, X_prep_test, y_prep_train, y_prep_test = train_test_split(X_prep, y_prep, test_size=0.20, random_state=2)"
   ]
  },
  {
   "cell_type": "code",
   "execution_count": 26,
   "id": "3a4ddf8d-fbb8-404c-bc16-0c3a2d9232d4",
   "metadata": {},
   "outputs": [],
   "source": [
    "# Vectorizing and splitting new_df\n",
    "X_unscaled = np.hstack((tfidf.fit_transform(new_df['text']).toarray(),new_df['num_words'].values.reshape(-1,1),\n",
    "                   new_df['num_char'].values.reshape(-1,1),new_df['num_sent'].values.reshape(-1,1)))\n",
    "X_new = scaler.fit_transform(X_unscaled)\n",
    "y_new = new_df.target\n",
    "\n",
    "X_new_train, X_new_test, y_new_train, y_new_test = train_test_split(X_new, y_new, test_size=0.20, random_state=2)"
   ]
  },
  {
   "cell_type": "markdown",
   "id": "bfdec288-835a-4112-824c-aa38d10d869e",
   "metadata": {},
   "source": [
    "# 9. Model Building"
   ]
  },
  {
   "cell_type": "code",
   "execution_count": 27,
   "id": "757e9efa-3137-41c0-9318-376e08955f53",
   "metadata": {},
   "outputs": [],
   "source": [
    "# Defining classifier models\n",
    "classifiers = {\n",
    "    'GaussianNB' : GaussianNB(),\n",
    "    'MultinomialNB' : MultinomialNB(),\n",
    "    'BernoulliNB' : BernoulliNB(),\n",
    "    'Logistic' : LogisticRegression(solver='liblinear'),\n",
    "    'RandomForest' : RandomForestClassifier(n_estimators=100,random_state=2),\n",
    "    'XGBoost' : XGBClassifier(n_estimators = 100,random_state=2)\n",
    "}"
   ]
  },
  {
   "cell_type": "code",
   "execution_count": 28,
   "id": "3f71c6f3-2fad-4e19-8dcb-8ae00b40e6a3",
   "metadata": {},
   "outputs": [],
   "source": [
    "# Dunction for training\n",
    "def training(clf,X_train,y_train,X_test,y_test):\n",
    "    clf.fit(X_train,y_train)\n",
    "    y_pred = clf.predict(X_test)\n",
    "    accuracy = accuracy_score(y_test,y_pred)\n",
    "    precision = precision_score(y_test,y_pred)\n",
    "    F1_score = f1_score(y_test,y_pred)\n",
    "    return accuracy,precision,F1_score"
   ]
  },
  {
   "cell_type": "code",
   "execution_count": 29,
   "id": "5e3656e7-89d4-4228-bb7c-584dfe77f591",
   "metadata": {},
   "outputs": [],
   "source": [
    "# Function to get the result\n",
    "def result(X_train,y_train,X_test,y_test):\n",
    "    accuracy_scores = []\n",
    "    precision_scores = []\n",
    "    F1_scores = []\n",
    "    for name,clf in classifiers.items():\n",
    "        current_accuracy,current_precision,current_F1_score = training(clf, X_train,y_train,X_test,y_test)\n",
    "        accuracy_scores.append(current_accuracy)\n",
    "        precision_scores.append(current_precision)\n",
    "        F1_scores.append(current_F1_score)\n",
    "    return pd.DataFrame({'Algorithm':classifiers.keys(),'Accuracy':accuracy_scores,'Precision':precision_scores,'F1_score':F1_scores}).sort_values('Precision',ascending=False)"
   ]
  },
  {
   "cell_type": "markdown",
   "id": "4d10b4d1-25c8-4f7a-ac05-3896894b63b9",
   "metadata": {},
   "source": [
    "## 9.1 Dataset With New Features"
   ]
  },
  {
   "cell_type": "code",
   "execution_count": 30,
   "id": "a95cf184-5435-4ea7-b65b-5cf759aa55d1",
   "metadata": {},
   "outputs": [
    {
     "data": {
      "text/html": [
       "<div>\n",
       "<style scoped>\n",
       "    .dataframe tbody tr th:only-of-type {\n",
       "        vertical-align: middle;\n",
       "    }\n",
       "\n",
       "    .dataframe tbody tr th {\n",
       "        vertical-align: top;\n",
       "    }\n",
       "\n",
       "    .dataframe thead th {\n",
       "        text-align: right;\n",
       "    }\n",
       "</style>\n",
       "<table border=\"1\" class=\"dataframe\">\n",
       "  <thead>\n",
       "    <tr style=\"text-align: right;\">\n",
       "      <th></th>\n",
       "      <th>Algorithm</th>\n",
       "      <th>Accuracy</th>\n",
       "      <th>Precision</th>\n",
       "      <th>F1_score</th>\n",
       "    </tr>\n",
       "  </thead>\n",
       "  <tbody>\n",
       "    <tr>\n",
       "      <th>2</th>\n",
       "      <td>BernoulliNB</td>\n",
       "      <td>0.984526</td>\n",
       "      <td>1.000000</td>\n",
       "      <td>0.938462</td>\n",
       "    </tr>\n",
       "    <tr>\n",
       "      <th>4</th>\n",
       "      <td>RandomForest</td>\n",
       "      <td>0.971954</td>\n",
       "      <td>0.990991</td>\n",
       "      <td>0.883534</td>\n",
       "    </tr>\n",
       "    <tr>\n",
       "      <th>3</th>\n",
       "      <td>Logistic</td>\n",
       "      <td>0.973888</td>\n",
       "      <td>0.982609</td>\n",
       "      <td>0.893281</td>\n",
       "    </tr>\n",
       "    <tr>\n",
       "      <th>1</th>\n",
       "      <td>MultinomialNB</td>\n",
       "      <td>0.978723</td>\n",
       "      <td>0.946154</td>\n",
       "      <td>0.917910</td>\n",
       "    </tr>\n",
       "    <tr>\n",
       "      <th>5</th>\n",
       "      <td>XGBoost</td>\n",
       "      <td>0.970986</td>\n",
       "      <td>0.915385</td>\n",
       "      <td>0.888060</td>\n",
       "    </tr>\n",
       "    <tr>\n",
       "      <th>0</th>\n",
       "      <td>GaussianNB</td>\n",
       "      <td>0.888781</td>\n",
       "      <td>0.551111</td>\n",
       "      <td>0.683196</td>\n",
       "    </tr>\n",
       "  </tbody>\n",
       "</table>\n",
       "</div>"
      ],
      "text/plain": [
       "       Algorithm  Accuracy  Precision  F1_score\n",
       "2    BernoulliNB  0.984526   1.000000  0.938462\n",
       "4   RandomForest  0.971954   0.990991  0.883534\n",
       "3       Logistic  0.973888   0.982609  0.893281\n",
       "1  MultinomialNB  0.978723   0.946154  0.917910\n",
       "5        XGBoost  0.970986   0.915385  0.888060\n",
       "0     GaussianNB  0.888781   0.551111  0.683196"
      ]
     },
     "execution_count": 30,
     "metadata": {},
     "output_type": "execute_result"
    }
   ],
   "source": [
    "new_df_performance = result(X_new_train,y_new_train,X_new_test,y_new_test)\n",
    "new_df_performance"
   ]
  },
  {
   "cell_type": "markdown",
   "id": "7af9fb74-88f1-4783-8175-4dc87e41093a",
   "metadata": {},
   "source": [
    "## 9.2 Dataset Without New Features"
   ]
  },
  {
   "cell_type": "code",
   "execution_count": 31,
   "id": "487aa638-55db-4984-857d-eece34dc514f",
   "metadata": {},
   "outputs": [
    {
     "data": {
      "text/html": [
       "<div>\n",
       "<style scoped>\n",
       "    .dataframe tbody tr th:only-of-type {\n",
       "        vertical-align: middle;\n",
       "    }\n",
       "\n",
       "    .dataframe tbody tr th {\n",
       "        vertical-align: top;\n",
       "    }\n",
       "\n",
       "    .dataframe thead th {\n",
       "        text-align: right;\n",
       "    }\n",
       "</style>\n",
       "<table border=\"1\" class=\"dataframe\">\n",
       "  <thead>\n",
       "    <tr style=\"text-align: right;\">\n",
       "      <th></th>\n",
       "      <th>Algorithm</th>\n",
       "      <th>Accuracy</th>\n",
       "      <th>Precision</th>\n",
       "      <th>F1_score</th>\n",
       "    </tr>\n",
       "  </thead>\n",
       "  <tbody>\n",
       "    <tr>\n",
       "      <th>1</th>\n",
       "      <td>MultinomialNB</td>\n",
       "      <td>0.973888</td>\n",
       "      <td>1.000000</td>\n",
       "      <td>0.891566</td>\n",
       "    </tr>\n",
       "    <tr>\n",
       "      <th>2</th>\n",
       "      <td>BernoulliNB</td>\n",
       "      <td>0.983559</td>\n",
       "      <td>1.000000</td>\n",
       "      <td>0.934363</td>\n",
       "    </tr>\n",
       "    <tr>\n",
       "      <th>3</th>\n",
       "      <td>Logistic</td>\n",
       "      <td>0.953578</td>\n",
       "      <td>0.989130</td>\n",
       "      <td>0.791304</td>\n",
       "    </tr>\n",
       "    <tr>\n",
       "      <th>4</th>\n",
       "      <td>RandomForest</td>\n",
       "      <td>0.974855</td>\n",
       "      <td>0.982759</td>\n",
       "      <td>0.897638</td>\n",
       "    </tr>\n",
       "    <tr>\n",
       "      <th>5</th>\n",
       "      <td>XGBoost</td>\n",
       "      <td>0.972921</td>\n",
       "      <td>0.958333</td>\n",
       "      <td>0.891473</td>\n",
       "    </tr>\n",
       "    <tr>\n",
       "      <th>0</th>\n",
       "      <td>GaussianNB</td>\n",
       "      <td>0.881044</td>\n",
       "      <td>0.534884</td>\n",
       "      <td>0.651558</td>\n",
       "    </tr>\n",
       "  </tbody>\n",
       "</table>\n",
       "</div>"
      ],
      "text/plain": [
       "       Algorithm  Accuracy  Precision  F1_score\n",
       "1  MultinomialNB  0.973888   1.000000  0.891566\n",
       "2    BernoulliNB  0.983559   1.000000  0.934363\n",
       "3       Logistic  0.953578   0.989130  0.791304\n",
       "4   RandomForest  0.974855   0.982759  0.897638\n",
       "5        XGBoost  0.972921   0.958333  0.891473\n",
       "0     GaussianNB  0.881044   0.534884  0.651558"
      ]
     },
     "execution_count": 31,
     "metadata": {},
     "output_type": "execute_result"
    }
   ],
   "source": [
    "prep_df_performance = result(X_prep_train,y_prep_train,X_prep_test,y_prep_test)\n",
    "prep_df_performance"
   ]
  },
  {
   "cell_type": "markdown",
   "id": "2817f70d-5cdd-4eac-ae06-75fc5267e734",
   "metadata": {},
   "source": [
    "- Since our BernoulliNB model is giving best Accuracy and F1_score and also perfect Precision so we select BernoulliNB model\n",
    "- Precision for BernoulliNB is same for both the datasets and Accuracy is also almost equal. So we don't need to extract any feature"
   ]
  },
  {
   "cell_type": "code",
   "execution_count": 32,
   "id": "655191f4-cd17-4e13-945e-b132f6302266",
   "metadata": {},
   "outputs": [],
   "source": [
    "model = BernoulliNB()\n",
    "model.fit(X_prep_train,y_prep_train)"
   ]
  },
  {
   "cell_type": "markdown",
   "id": "26624749-0f1e-43cc-8989-7f9513e7a905",
   "metadata": {},
   "source": [
    "# 10. Model Exporting"
   ]
  },
  {
   "cell_type": "code",
   "execution_count": 33,
   "id": "f26e39f8-984c-4875-ae35-0dc0d487f819",
   "metadata": {},
   "outputs": [],
   "source": [
    "joblib.dump(tfidf,'TfIdf.joblib')"
   ]
  },
  {
   "cell_type": "code",
   "execution_count": 34,
   "id": "96c07f4b-4c3d-45a4-93c3-3c320361cd56",
   "metadata": {},
   "outputs": [],
   "source": [
    "joblib.dump(model,'BernoulliNB.joblib')"
   ]
  }
 ],
 "metadata": {
  "kernelspec": {
   "display_name": "Python 3 (ipykernel)",
   "language": "python",
   "name": "python3"
  },
  "language_info": {
   "codemirror_mode": {
    "name": "ipython",
    "version": 3
   },
   "file_extension": ".py",
   "mimetype": "text/x-python",
   "name": "python",
   "nbconvert_exporter": "python",
   "pygments_lexer": "ipython3",
   "version": "3.12.4"
  }
 },
 "nbformat": 4,
 "nbformat_minor": 5
}
